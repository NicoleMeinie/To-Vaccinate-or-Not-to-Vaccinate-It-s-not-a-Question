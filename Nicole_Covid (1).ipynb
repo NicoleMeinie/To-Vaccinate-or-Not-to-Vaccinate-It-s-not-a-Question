{
  "nbformat": 4,
  "nbformat_minor": 0,
  "metadata": {
    "colab": {
      "name": "Nicole_Covid.ipynb",
      "provenance": []
    },
    "kernelspec": {
      "name": "python3",
      "display_name": "Python 3"
    }
  },
  "cells": [
    {
      "cell_type": "markdown",
      "metadata": {
        "id": "911twXaM0NhN",
        "colab_type": "text"
      },
      "source": [
        "# Covid-19 : To vaccinate or not to vaccinate\n",
        "\n",
        "#### Analysing social media sentiment towards vaccines\n",
        "\n",
        "![alt text](https://images.financialexpress.com/2020/06/1-126.jpg)"
      ]
    },
    {
      "cell_type": "code",
      "metadata": {
        "id": "mS9uV3B8uqgr",
        "colab_type": "code",
        "colab": {
          "base_uri": "https://localhost:8080/",
          "height": 52
        },
        "outputId": "96db94d5-6c33-49c6-bb0e-574680853e2e"
      },
      "source": [
        "import numpy as np \n",
        "import pandas as pd\n",
        "import seaborn as sns\n",
        "import re\n",
        "import nltk \n",
        "import math\n",
        "nltk.download('stopwords')\n",
        "\n",
        "from nltk.corpus import stopwords\n",
        "from sklearn.feature_extraction.text import TfidfVectorizer\n",
        "from sklearn.model_selection import train_test_split\n",
        "\n",
        "from sklearn.ensemble import RandomForestClassifier\n",
        "from sklearn.linear_model import LogisticRegression\n",
        "from sklearn.neighbors import KNeighborsClassifier\n",
        "from sklearn.svm import LinearSVC\n",
        "\n",
        "from sklearn.model_selection import GridSearchCV\n",
        "from sklearn.model_selection import StratifiedKFold\n",
        "from sklearn.metrics import mean_squared_error, confusion_matrix\n"
      ],
      "execution_count": 237,
      "outputs": [
        {
          "output_type": "stream",
          "text": [
            "[nltk_data] Downloading package stopwords to /root/nltk_data...\n",
            "[nltk_data]   Package stopwords is already up-to-date!\n"
          ],
          "name": "stdout"
        }
      ]
    },
    {
      "cell_type": "code",
      "metadata": {
        "id": "gg0pIueGvQrq",
        "colab_type": "code",
        "colab": {}
      },
      "source": [
        "train = pd.read_csv(\"Train (2).csv\")\n",
        "test = pd.read_csv(\"Test (2).csv\")"
      ],
      "execution_count": 238,
      "outputs": []
    },
    {
      "cell_type": "code",
      "metadata": {
        "id": "NHVWwhJDvcLz",
        "colab_type": "code",
        "colab": {
          "base_uri": "https://localhost:8080/",
          "height": 197
        },
        "outputId": "d809997d-3fcd-4efb-b411-d079c2476d27"
      },
      "source": [
        "train.head()"
      ],
      "execution_count": 239,
      "outputs": [
        {
          "output_type": "execute_result",
          "data": {
            "text/html": [
              "<div>\n",
              "<style scoped>\n",
              "    .dataframe tbody tr th:only-of-type {\n",
              "        vertical-align: middle;\n",
              "    }\n",
              "\n",
              "    .dataframe tbody tr th {\n",
              "        vertical-align: top;\n",
              "    }\n",
              "\n",
              "    .dataframe thead th {\n",
              "        text-align: right;\n",
              "    }\n",
              "</style>\n",
              "<table border=\"1\" class=\"dataframe\">\n",
              "  <thead>\n",
              "    <tr style=\"text-align: right;\">\n",
              "      <th></th>\n",
              "      <th>tweet_id</th>\n",
              "      <th>safe_text</th>\n",
              "      <th>label</th>\n",
              "      <th>agreement</th>\n",
              "    </tr>\n",
              "  </thead>\n",
              "  <tbody>\n",
              "    <tr>\n",
              "      <th>0</th>\n",
              "      <td>CL1KWCMY</td>\n",
              "      <td>Me &amp;amp; The Big Homie meanboy3000 #MEANBOY #M...</td>\n",
              "      <td>0.0</td>\n",
              "      <td>1.0</td>\n",
              "    </tr>\n",
              "    <tr>\n",
              "      <th>1</th>\n",
              "      <td>E3303EME</td>\n",
              "      <td>I'm 100% thinking of devoting my career to pro...</td>\n",
              "      <td>1.0</td>\n",
              "      <td>1.0</td>\n",
              "    </tr>\n",
              "    <tr>\n",
              "      <th>2</th>\n",
              "      <td>M4IVFSMS</td>\n",
              "      <td>#whatcausesautism VACCINES, DO NOT VACCINATE Y...</td>\n",
              "      <td>-1.0</td>\n",
              "      <td>1.0</td>\n",
              "    </tr>\n",
              "    <tr>\n",
              "      <th>3</th>\n",
              "      <td>1DR6ROZ4</td>\n",
              "      <td>I mean if they immunize my kid with something ...</td>\n",
              "      <td>-1.0</td>\n",
              "      <td>1.0</td>\n",
              "    </tr>\n",
              "    <tr>\n",
              "      <th>4</th>\n",
              "      <td>J77ENIIE</td>\n",
              "      <td>Thanks to &lt;user&gt; Catch me performing at La Nui...</td>\n",
              "      <td>0.0</td>\n",
              "      <td>1.0</td>\n",
              "    </tr>\n",
              "  </tbody>\n",
              "</table>\n",
              "</div>"
            ],
            "text/plain": [
              "   tweet_id  ... agreement\n",
              "0  CL1KWCMY  ...       1.0\n",
              "1  E3303EME  ...       1.0\n",
              "2  M4IVFSMS  ...       1.0\n",
              "3  1DR6ROZ4  ...       1.0\n",
              "4  J77ENIIE  ...       1.0\n",
              "\n",
              "[5 rows x 4 columns]"
            ]
          },
          "metadata": {
            "tags": []
          },
          "execution_count": 239
        }
      ]
    },
    {
      "cell_type": "code",
      "metadata": {
        "id": "D7NTVdOrvee9",
        "colab_type": "code",
        "colab": {
          "base_uri": "https://localhost:8080/",
          "height": 212
        },
        "outputId": "f0fbc9a0-d131-415d-89fb-b3d015056985"
      },
      "source": [
        "train.info()"
      ],
      "execution_count": 240,
      "outputs": [
        {
          "output_type": "stream",
          "text": [
            "<class 'pandas.core.frame.DataFrame'>\n",
            "RangeIndex: 10001 entries, 0 to 10000\n",
            "Data columns (total 4 columns):\n",
            " #   Column     Non-Null Count  Dtype  \n",
            "---  ------     --------------  -----  \n",
            " 0   tweet_id   10001 non-null  object \n",
            " 1   safe_text  10001 non-null  object \n",
            " 2   label      10000 non-null  float64\n",
            " 3   agreement  9999 non-null   float64\n",
            "dtypes: float64(2), object(2)\n",
            "memory usage: 312.7+ KB\n"
          ],
          "name": "stdout"
        }
      ]
    },
    {
      "cell_type": "code",
      "metadata": {
        "id": "J0LsJjDuvg8Z",
        "colab_type": "code",
        "colab": {
          "base_uri": "https://localhost:8080/",
          "height": 197
        },
        "outputId": "28021383-ee6a-442f-b0e9-3596fc753e04"
      },
      "source": [
        "test.head()"
      ],
      "execution_count": 241,
      "outputs": [
        {
          "output_type": "execute_result",
          "data": {
            "text/html": [
              "<div>\n",
              "<style scoped>\n",
              "    .dataframe tbody tr th:only-of-type {\n",
              "        vertical-align: middle;\n",
              "    }\n",
              "\n",
              "    .dataframe tbody tr th {\n",
              "        vertical-align: top;\n",
              "    }\n",
              "\n",
              "    .dataframe thead th {\n",
              "        text-align: right;\n",
              "    }\n",
              "</style>\n",
              "<table border=\"1\" class=\"dataframe\">\n",
              "  <thead>\n",
              "    <tr style=\"text-align: right;\">\n",
              "      <th></th>\n",
              "      <th>tweet_id</th>\n",
              "      <th>safe_text</th>\n",
              "    </tr>\n",
              "  </thead>\n",
              "  <tbody>\n",
              "    <tr>\n",
              "      <th>0</th>\n",
              "      <td>00BHHHP1</td>\n",
              "      <td>&lt;user&gt; &lt;user&gt; ... &amp;amp; 4 a vaccine given 2 he...</td>\n",
              "    </tr>\n",
              "    <tr>\n",
              "      <th>1</th>\n",
              "      <td>00UNMD0E</td>\n",
              "      <td>Students starting school without whooping coug...</td>\n",
              "    </tr>\n",
              "    <tr>\n",
              "      <th>2</th>\n",
              "      <td>01AXPTJF</td>\n",
              "      <td>I'm kinda over every ep of &lt;user&gt; being \"rippe...</td>\n",
              "    </tr>\n",
              "    <tr>\n",
              "      <th>3</th>\n",
              "      <td>01HOEQJW</td>\n",
              "      <td>How many innocent children die for lack of vac...</td>\n",
              "    </tr>\n",
              "    <tr>\n",
              "      <th>4</th>\n",
              "      <td>01JUKMAO</td>\n",
              "      <td>CDC eyeing bird flu vaccine for humans, though...</td>\n",
              "    </tr>\n",
              "  </tbody>\n",
              "</table>\n",
              "</div>"
            ],
            "text/plain": [
              "   tweet_id                                          safe_text\n",
              "0  00BHHHP1  <user> <user> ... &amp; 4 a vaccine given 2 he...\n",
              "1  00UNMD0E  Students starting school without whooping coug...\n",
              "2  01AXPTJF  I'm kinda over every ep of <user> being \"rippe...\n",
              "3  01HOEQJW  How many innocent children die for lack of vac...\n",
              "4  01JUKMAO  CDC eyeing bird flu vaccine for humans, though..."
            ]
          },
          "metadata": {
            "tags": []
          },
          "execution_count": 241
        }
      ]
    },
    {
      "cell_type": "code",
      "metadata": {
        "id": "oOeraSfLvi9E",
        "colab_type": "code",
        "colab": {
          "base_uri": "https://localhost:8080/",
          "height": 176
        },
        "outputId": "86818543-4d9d-436f-cc4b-72cb6c320a97"
      },
      "source": [
        "test.info()"
      ],
      "execution_count": 242,
      "outputs": [
        {
          "output_type": "stream",
          "text": [
            "<class 'pandas.core.frame.DataFrame'>\n",
            "RangeIndex: 5177 entries, 0 to 5176\n",
            "Data columns (total 2 columns):\n",
            " #   Column     Non-Null Count  Dtype \n",
            "---  ------     --------------  ----- \n",
            " 0   tweet_id   5177 non-null   object\n",
            " 1   safe_text  5176 non-null   object\n",
            "dtypes: object(2)\n",
            "memory usage: 81.0+ KB\n"
          ],
          "name": "stdout"
        }
      ]
    },
    {
      "cell_type": "code",
      "metadata": {
        "id": "2c7wyYk3wwIn",
        "colab_type": "code",
        "colab": {}
      },
      "source": [
        "# drop rows with null values \n",
        "train = train.dropna()\n",
        "\n",
        "# drop tweetID and agreement columns\n",
        "train = train.drop(['tweet_id', 'agreement'], axis=1)"
      ],
      "execution_count": 243,
      "outputs": []
    },
    {
      "cell_type": "code",
      "metadata": {
        "id": "6ueYiz4cxXzc",
        "colab_type": "code",
        "colab": {}
      },
      "source": [
        "# split train data into features and lables \n",
        "X = train['safe_text'].values\n",
        "y = train['label'].values"
      ],
      "execution_count": 244,
      "outputs": []
    },
    {
      "cell_type": "code",
      "metadata": {
        "id": "YCm0inpIxxnJ",
        "colab_type": "code",
        "colab": {}
      },
      "source": [
        "def tweet_cleaner(tweets):\n",
        "\n",
        "    \"\"\"\n",
        "    This function uses regular expressions to remove special characters, \n",
        "    punctuation, numbers and any extra white space from tweets \n",
        "    then converts everything to lowercase letters.\n",
        "\n",
        "    Input:\n",
        "    tweets: original tweet\n",
        "           datatype: 'str'\n",
        "\n",
        "    Output:\n",
        "    clean_tweets: modified tweet\n",
        "           datatype: 'str'\n",
        "    \"\"\"\n",
        "\n",
        "    clean_tweets = []\n",
        "\n",
        "    for sentence in range(0, len(tweets)):\n",
        "      \n",
        "        # Remove all the special characters\n",
        "        processed_tweets = re.sub(r'\\W', ' ', str(tweets[sentence]))\n",
        "\n",
        "        # remove all single characters\n",
        "        processed_tweets = re.sub(r'\\s+[a-zA-Z]\\s+', ' ', processed_tweets)\n",
        "\n",
        "        # Remove single characters from the start\n",
        "        processed_tweets = re.sub(r'\\^[a-zA-Z]\\s+', ' ', processed_tweets) \n",
        "\n",
        "        # Substituting multiple spaces with single space\n",
        "        processed_tweets = re.sub(r'\\s+', ' ', processed_tweets, flags=re.I)\n",
        "\n",
        "        # Converting to Lowercase\n",
        "        processed_tweets = processed_tweets.lower()\n",
        "\n",
        "        # Remove numbers\n",
        "        processed_tweets = re.sub(r'\\d+', '', processed_tweets)  \n",
        "\n",
        "        # Remove <user> tags\n",
        "        processed_tweets = re.sub(r'<.*?>', '', processed_tweets)\n",
        "\n",
        "        # Replace &amp; with 'and'\n",
        "        processed_tweets = re.sub(r\"&amp;\", \"and\", processed_tweets)  \n",
        "\n",
        "        clean_tweets.append(processed_tweets)\n",
        "\n",
        "    return clean_tweets\n",
        "\n",
        "X = tweet_cleaner(X)\n",
        "test_tweets = tweet_cleaner(test['safe_text'])"
      ],
      "execution_count": 245,
      "outputs": []
    },
    {
      "cell_type": "code",
      "metadata": {
        "id": "Wstvybk50fLD",
        "colab_type": "code",
        "colab": {}
      },
      "source": [
        "# Convert text to numbers\n",
        "\n",
        "vectorizer = TfidfVectorizer(min_df=3,  \n",
        "                             max_features=None, \n",
        "                             strip_accents='unicode', \n",
        "                             analyzer='word',token_pattern=r'\\w{1,}',\n",
        "                             ngram_range=(1, 3), \n",
        "                             use_idf=1,\n",
        "                             smooth_idf=1,\n",
        "                             sublinear_tf=1,\n",
        "                             stop_words = 'english')\n",
        "\n",
        "X = vectorizer.fit_transform(X).toarray()  "
      ],
      "execution_count": 246,
      "outputs": []
    },
    {
      "cell_type": "code",
      "metadata": {
        "id": "-UBD46CU04GP",
        "colab_type": "code",
        "colab": {}
      },
      "source": [
        "# Create test and validation sets\n",
        "X_train, X_test, y_train, y_test = train_test_split(X, y, test_size=0.2, random_state=0)"
      ],
      "execution_count": 247,
      "outputs": []
    },
    {
      "cell_type": "code",
      "metadata": {
        "id": "gA9yJljuwV9B",
        "colab_type": "code",
        "colab": {}
      },
      "source": [
        "lr = LogisticRegression(class_weight='balanced', max_iter=500).fit(X_train, y_train) \n",
        "val_predictions_proba = lr.predict_proba(X_test)"
      ],
      "execution_count": 248,
      "outputs": []
    },
    {
      "cell_type": "code",
      "metadata": {
        "id": "JFe-5Xcr29QD",
        "colab_type": "code",
        "colab": {}
      },
      "source": [
        "def probs(predictions):\n",
        "\n",
        "  \"\"\"\n",
        "  This function converts the multiclass probability array into a single \n",
        "  value between -1 and 1 for each class (-1, 0, 1)\n",
        "  This value is the probability of a tweet belonging to the most likely class\n",
        "\n",
        "  input: preds\n",
        "         datatype: array\n",
        "  \n",
        "  output: final_predictions\n",
        "          datatype: array\n",
        "  \"\"\"\n",
        "\n",
        "  final_predictions = []\n",
        "\n",
        "  for pred in predictions:\n",
        "    argmax = pred.argmax()\n",
        "\n",
        "    if argmax == 0:\n",
        "      final_predictions.append(-1*pred[0])\n",
        "\n",
        "    elif argmax == 1:\n",
        "      final_predictions.append(0)\n",
        "\n",
        "    else:\n",
        "      final_predictions.append(pred[2])\n",
        "\n",
        "  return final_predictions\n",
        "\n",
        "y_pred = probs(val_predictions_proba)"
      ],
      "execution_count": 249,
      "outputs": []
    },
    {
      "cell_type": "code",
      "metadata": {
        "id": "fuakh43b690x",
        "colab_type": "code",
        "colab": {
          "base_uri": "https://localhost:8080/",
          "height": 34
        },
        "outputId": "ca49eea1-f0ef-45ac-b3d7-ad013e629dfe"
      },
      "source": [
        "# Model evaluation\n",
        "print(math.sqrt(mean_squared_error(y_test, y_pred)))"
      ],
      "execution_count": 250,
      "outputs": [
        {
          "output_type": "stream",
          "text": [
            "0.6011345497965763\n"
          ],
          "name": "stdout"
        }
      ]
    },
    {
      "cell_type": "code",
      "metadata": {
        "id": "9Z2twKudFA6u",
        "colab_type": "code",
        "colab": {
          "base_uri": "https://localhost:8080/",
          "height": 197
        },
        "outputId": "afeabfcf-4abc-40bb-fbdf-d4f55ed8c45f"
      },
      "source": [
        "# Submission\n",
        "\n",
        "# Prepare test tweets for the model and predict labels\n",
        "X_test = vectorizer.transform(test_tweets).toarray() \n",
        "y_pred = lr.predict_proba(X_test)\n",
        "y_preds = probs(y_pred)\n",
        "\n",
        "# Create submission file\n",
        "submission = pd.DataFrame({\"tweet_id\":test['tweet_id'], \"label\":y_preds})\n",
        "submission.to_csv(\"submission.csv\", index=False)\n",
        "submission.head()"
      ],
      "execution_count": 252,
      "outputs": [
        {
          "output_type": "execute_result",
          "data": {
            "text/html": [
              "<div>\n",
              "<style scoped>\n",
              "    .dataframe tbody tr th:only-of-type {\n",
              "        vertical-align: middle;\n",
              "    }\n",
              "\n",
              "    .dataframe tbody tr th {\n",
              "        vertical-align: top;\n",
              "    }\n",
              "\n",
              "    .dataframe thead th {\n",
              "        text-align: right;\n",
              "    }\n",
              "</style>\n",
              "<table border=\"1\" class=\"dataframe\">\n",
              "  <thead>\n",
              "    <tr style=\"text-align: right;\">\n",
              "      <th></th>\n",
              "      <th>tweet_id</th>\n",
              "      <th>label</th>\n",
              "    </tr>\n",
              "  </thead>\n",
              "  <tbody>\n",
              "    <tr>\n",
              "      <th>0</th>\n",
              "      <td>00BHHHP1</td>\n",
              "      <td>-0.574569</td>\n",
              "    </tr>\n",
              "    <tr>\n",
              "      <th>1</th>\n",
              "      <td>00UNMD0E</td>\n",
              "      <td>0.706157</td>\n",
              "    </tr>\n",
              "    <tr>\n",
              "      <th>2</th>\n",
              "      <td>01AXPTJF</td>\n",
              "      <td>0.000000</td>\n",
              "    </tr>\n",
              "    <tr>\n",
              "      <th>3</th>\n",
              "      <td>01HOEQJW</td>\n",
              "      <td>0.686030</td>\n",
              "    </tr>\n",
              "    <tr>\n",
              "      <th>4</th>\n",
              "      <td>01JUKMAO</td>\n",
              "      <td>-0.407879</td>\n",
              "    </tr>\n",
              "  </tbody>\n",
              "</table>\n",
              "</div>"
            ],
            "text/plain": [
              "   tweet_id     label\n",
              "0  00BHHHP1 -0.574569\n",
              "1  00UNMD0E  0.706157\n",
              "2  01AXPTJF  0.000000\n",
              "3  01HOEQJW  0.686030\n",
              "4  01JUKMAO -0.407879"
            ]
          },
          "metadata": {
            "tags": []
          },
          "execution_count": 252
        }
      ]
    },
    {
      "cell_type": "code",
      "metadata": {
        "id": "euJXFUca5Qja",
        "colab_type": "code",
        "colab": {}
      },
      "source": [
        ""
      ],
      "execution_count": null,
      "outputs": []
    }
  ]
}